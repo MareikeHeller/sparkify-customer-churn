{
 "cells": [
  {
   "cell_type": "markdown",
   "metadata": {},
   "source": [
    "# Sparkify - Prediction of Customer Churn"
   ]
  },
  {
   "cell_type": "code",
   "execution_count": 33,
   "metadata": {},
   "outputs": [],
   "source": [
    "# import libraries\n",
    "from pyspark.sql import SparkSession\n",
    "from pyspark.sql.functions import avg, col, concat, desc, explode, lit, min, max, split, udf\n",
    "#from pyspark.sql.types import IntegerType\n",
    "\n",
    "#from pyspark.ml import Pipeline\n",
    "#from pyspark.ml.classification import LogisticRegression\n",
    "#from pyspark.ml.evaluation import MulticlassClassificationEvaluator\n",
    "#from pyspark.ml.feature import CountVectorizer, IDF, Normalizer, PCA, RegexTokenizer, StandardScaler, StopWordsRemover, StringIndexer, VectorAssembler\n",
    "#from pyspark.ml.regression import LinearRegression\n",
    "#from pyspark.ml.tuning import CrossValidator, ParamGridBuilder\n",
    "\n",
    "#import re"
   ]
  },
  {
   "cell_type": "code",
   "execution_count": 2,
   "metadata": {},
   "outputs": [],
   "source": [
    "# create Spark session\n",
    "spark = SparkSession.builder \\\n",
    "    .master(\"local\") \\\n",
    "    .appName(\"Sparkify Model\") \\\n",
    "    .getOrCreate()"
   ]
  },
  {
   "cell_type": "markdown",
   "metadata": {},
   "source": [
    "## Load and Clean Dataset"
   ]
  },
  {
   "cell_type": "code",
   "execution_count": 4,
   "metadata": {},
   "outputs": [
    {
     "data": {
      "text/plain": [
       "DataFrame[artist: string, auth: string, firstName: string, gender: string, itemInSession: bigint, lastName: string, length: double, level: string, location: string, method: string, page: string, registration: bigint, sessionId: bigint, song: string, status: bigint, ts: bigint, userAgent: string, userId: string]"
      ]
     },
     "execution_count": 4,
     "metadata": {},
     "output_type": "execute_result"
    }
   ],
   "source": [
    "df = spark.read.json('mini_sparkify_event_data.json') # mini dataset to run code on local machine\n",
    "df.persist() # lazy evaluation"
   ]
  },
  {
   "cell_type": "code",
   "execution_count": 9,
   "metadata": {},
   "outputs": [
    {
     "data": {
      "text/plain": [
       "Row(artist='Martha Tilston', auth='Logged In', firstName='Colin', gender='M', itemInSession=50, lastName='Freeman', length=277.89016, level='paid', location='Bakersfield, CA', method='PUT', page='NextSong', registration=1538173362000, sessionId=29, song='Rockpools', status=200, ts=1538352117000, userAgent='Mozilla/5.0 (Windows NT 6.1; WOW64; rv:31.0) Gecko/20100101 Firefox/31.0', userId='30')"
      ]
     },
     "execution_count": 9,
     "metadata": {},
     "output_type": "execute_result"
    }
   ],
   "source": [
    "df.head()"
   ]
  },
  {
   "cell_type": "code",
   "execution_count": 10,
   "metadata": {},
   "outputs": [
    {
     "name": "stdout",
     "output_type": "stream",
     "text": [
      "root\n",
      " |-- artist: string (nullable = true)\n",
      " |-- auth: string (nullable = true)\n",
      " |-- firstName: string (nullable = true)\n",
      " |-- gender: string (nullable = true)\n",
      " |-- itemInSession: long (nullable = true)\n",
      " |-- lastName: string (nullable = true)\n",
      " |-- length: double (nullable = true)\n",
      " |-- level: string (nullable = true)\n",
      " |-- location: string (nullable = true)\n",
      " |-- method: string (nullable = true)\n",
      " |-- page: string (nullable = true)\n",
      " |-- registration: long (nullable = true)\n",
      " |-- sessionId: long (nullable = true)\n",
      " |-- song: string (nullable = true)\n",
      " |-- status: long (nullable = true)\n",
      " |-- ts: long (nullable = true)\n",
      " |-- userAgent: string (nullable = true)\n",
      " |-- userId: string (nullable = true)\n",
      "\n"
     ]
    }
   ],
   "source": [
    "df.printSchema()"
   ]
  },
  {
   "cell_type": "markdown",
   "metadata": {},
   "source": [
    "### Investigate Session ID & User ID"
   ]
  },
  {
   "cell_type": "code",
   "execution_count": 71,
   "metadata": {},
   "outputs": [
    {
     "name": "stdout",
     "output_type": "stream",
     "text": [
      "This dataset has 286500 rows.\n",
      "\n",
      "+--------------+--------------+\n",
      "|min(sessionId)|max(sessionId)|\n",
      "+--------------+--------------+\n",
      "|             1|          2474|\n",
      "+--------------+--------------+\n",
      "\n",
      "0 rows (0.00%) have missing sessionId.\n",
      "\n",
      "+-----------+-----------+\n",
      "|min(userId)|max(userId)|\n",
      "+-----------+-----------+\n",
      "|           |         99|\n",
      "+-----------+-----------+\n",
      "\n",
      "8346 rows (2.91%) have missing userId.\n",
      "\n"
     ]
    }
   ],
   "source": [
    "id_list = ['sessionId','userId']\n",
    "\n",
    "print('The dataset has {} rows.\\n'.format(df.count()))\n",
    "\n",
    "for idx in id_list:\n",
    "    # min and max values\n",
    "    df.agg(min(col(idx)), max(col(idx))).show()\n",
    "    # count and share of missing values\n",
    "    null_count = df.where((df[idx].isNull()) | (df[idx] == '')).count()\n",
    "    null_share = (null_count/df.count())*100\n",
    "    print('{} rows ({}%) have missing {}.\\n'.format(null_count, \"{:.2f}\".format(null_share), idx))"
   ]
  },
  {
   "cell_type": "code",
   "execution_count": 60,
   "metadata": {},
   "outputs": [
    {
     "name": "stdout",
     "output_type": "stream",
     "text": [
      "+-------------------+-----+\n",
      "|               page|count|\n",
      "+-------------------+-----+\n",
      "|               Home| 4375|\n",
      "|              Login| 3241|\n",
      "|              About|  429|\n",
      "|               Help|  272|\n",
      "|           Register|   18|\n",
      "|              Error|    6|\n",
      "|Submit Registration|    5|\n",
      "+-------------------+-----+\n",
      "\n"
     ]
    }
   ],
   "source": [
    "# page visits for rows with missing userId\n",
    "df.select(['userId','page','ts']).where(col('userId')=='').groupby('page').count().sort(desc('count')).show()"
   ]
  },
  {
   "cell_type": "markdown",
   "metadata": {},
   "source": [
    "Since the events with missing user IDs seem to be attributed to users that are not logged in (most of these events are located at pages \"Home\" & \"Login\"), these events will be excluded from further analyses."
   ]
  },
  {
   "cell_type": "code",
   "execution_count": 72,
   "metadata": {},
   "outputs": [
    {
     "name": "stdout",
     "output_type": "stream",
     "text": [
      "The dataset is reduced to 278154 rows.\n",
      "\n"
     ]
    }
   ],
   "source": [
    "# drop rows with missing userId\n",
    "df_clean = df.filter(df['userId'] != '')\n",
    "print('The clean dataset is reduced to {} rows.\\n'.format(df_clean.count()))"
   ]
  }
 ],
 "metadata": {
  "kernelspec": {
   "display_name": "Python 3",
   "language": "python",
   "name": "python3"
  },
  "language_info": {
   "codemirror_mode": {
    "name": "ipython",
    "version": 3
   },
   "file_extension": ".py",
   "mimetype": "text/x-python",
   "name": "python",
   "nbconvert_exporter": "python",
   "pygments_lexer": "ipython3",
   "version": "3.6.3"
  }
 },
 "nbformat": 4,
 "nbformat_minor": 2
}
